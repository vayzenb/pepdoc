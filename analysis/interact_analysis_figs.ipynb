{
 "cells": [
  {
   "cell_type": "code",
   "execution_count": 2,
   "metadata": {},
   "outputs": [],
   "source": [
    "curr_dir = f'/user_data/vayzenbe/GitHub_Repos/pepdoc' #CHANGE AS NEEEDED CAUSE ITS FOR VLAAAD\n",
    "\n",
    "import sys\n",
    "sys.path.insert(0,curr_dir)\n",
    "import os\n",
    "import pandas as pd\n",
    "import numpy as np\n",
    "import matplotlib.pyplot as plt\n",
    "import seaborn as sns\n",
    "import scipy.stats as stats\n",
    "import scipy\n",
    "import statsmodels.api as s\n",
    "from sklearn import metrics\n",
    "\n",
    "import pdb\n",
    "import pepdoc_params as params"
   ]
  },
  {
   "cell_type": "code",
   "execution_count": 3,
   "metadata": {},
   "outputs": [],
   "source": [
    "sub_list = params.sub_list\n",
    "data_dir = params.data_dir\n",
    "fig_dir = f'{curr_dir}/figures' #where to save the figures\n",
    "results_dir = f'{curr_dir}/results' #where to save the results\n",
    "\n",
    "#stim info\n",
    "categories = params.categories\n",
    "labels = params.labels\n",
    "\n",
    "#channels of interest\n",
    "channels = params.channels\n",
    "\n",
    "#analysis window info\n",
    "pre_stim = params.pre_stim\n",
    "post_stim = params.post_stim\n",
    "bin_size = params.bin_size\n",
    "bin_length = params.bin_length\n",
    "\n",
    "start_window = params.start_window\n",
    "stim_onset = params.stim_onset\n",
    "stim_offset = params.stim_offset\n",
    "timepoints = params.timepoints"
   ]
  },
  {
   "cell_type": "markdown",
   "metadata": {},
   "source": [
    "#### Granger causality"
   ]
  },
  {
   "cell_type": "code",
   "execution_count": 11,
   "metadata": {},
   "outputs": [],
   "source": [
    "rois = [['dorsal','ventral'],['dorsal','ventral','frontal'],['dorsal','ventral','occipital']]\n",
    "\n",
    "\n",
    "summary_df = pd.DataFrame()\n",
    "for roi in rois:\n",
    "    roi_cat = '_'.join(roi)\n",
    "\n",
    "    curr_df = pd.read_csv(f'{results_dir}/mvgca/{roi_cat}.csv')\n",
    "    summary_df[roi_cat] = curr_df['dorsal_ventral']\n",
    "\n",
    "summary_df['sub'] = curr_df['sub']\n",
    "\n",
    "#write to results\n",
    "summary_df.to_csv(f'{results_dir}/mvgca/mvgca_summary.csv',index=False)\n",
    "\n",
    "\n",
    "\n",
    "\n",
    "\n"
   ]
  },
  {
   "cell_type": "code",
   "execution_count": 10,
   "metadata": {},
   "outputs": [
    {
     "data": {
      "text/plain": [
       "['dorsal', 'ventral']"
      ]
     },
     "execution_count": 10,
     "metadata": {},
     "output_type": "execute_result"
    }
   ],
   "source": [
    "roi"
   ]
  },
  {
   "cell_type": "markdown",
   "metadata": {},
   "source": [
    "#### Time generalized RSA analyses"
   ]
  },
  {
   "cell_type": "code",
   "execution_count": 12,
   "metadata": {},
   "outputs": [
    {
     "ename": "ValueError",
     "evalue": "Shape of passed values is (87, 87), indices imply (138, 138)",
     "output_type": "error",
     "traceback": [
      "\u001b[0;31m---------------------------------------------------------------------------\u001b[0m",
      "\u001b[0;31mValueError\u001b[0m                                Traceback (most recent call last)",
      "\u001b[1;32m/user_data/vayzenbe/GitHub_Repos/pepdoc/analysis/interact_analysis_figs.ipynb Cell 7\u001b[0m in \u001b[0;36m<cell line: 11>\u001b[0;34m()\u001b[0m\n\u001b[1;32m     <a href='vscode-notebook-cell://ssh-remote%2Bmind-1-17-1/user_data/vayzenbe/GitHub_Repos/pepdoc/analysis/interact_analysis_figs.ipynb#W6sdnNjb2RlLXJlbW90ZQ%3D%3D?line=12'>13</a>\u001b[0m plt\u001b[39m.\u001b[39mfigure(figsize\u001b[39m=\u001b[39m(\u001b[39m6\u001b[39m, \u001b[39m6\u001b[39m), dpi\u001b[39m=\u001b[39m\u001b[39m80\u001b[39m)\n\u001b[1;32m     <a href='vscode-notebook-cell://ssh-remote%2Bmind-1-17-1/user_data/vayzenbe/GitHub_Repos/pepdoc/analysis/interact_analysis_figs.ipynb#W6sdnNjb2RlLXJlbW90ZQ%3D%3D?line=13'>14</a>\u001b[0m corr_ts \u001b[39m=\u001b[39m np\u001b[39m.\u001b[39mload(\u001b[39mf\u001b[39m\u001b[39m'\u001b[39m\u001b[39m{\u001b[39;00mresults_dir\u001b[39m}\u001b[39;00m\u001b[39m/rsa/\u001b[39m\u001b[39m{\u001b[39;00mroi1\u001b[39m}\u001b[39;00m\u001b[39m_\u001b[39m\u001b[39m{\u001b[39;00mroi2\u001b[39m}\u001b[39;00m\u001b[39m_corr_ts.npy\u001b[39m\u001b[39m'\u001b[39m)\n\u001b[0;32m---> <a href='vscode-notebook-cell://ssh-remote%2Bmind-1-17-1/user_data/vayzenbe/GitHub_Repos/pepdoc/analysis/interact_analysis_figs.ipynb#W6sdnNjb2RlLXJlbW90ZQ%3D%3D?line=15'>16</a>\u001b[0m corr_df \u001b[39m=\u001b[39m pd\u001b[39m.\u001b[39;49mDataFrame(corr_ts, columns \u001b[39m=\u001b[39;49m time_cols, index \u001b[39m=\u001b[39;49m time_cols)\n\u001b[1;32m     <a href='vscode-notebook-cell://ssh-remote%2Bmind-1-17-1/user_data/vayzenbe/GitHub_Repos/pepdoc/analysis/interact_analysis_figs.ipynb#W6sdnNjb2RlLXJlbW90ZQ%3D%3D?line=16'>17</a>\u001b[0m corr_df \u001b[39m=\u001b[39m corr_df\u001b[39m.\u001b[39miloc[:stim_offset,:stim_offset]\n\u001b[1;32m     <a href='vscode-notebook-cell://ssh-remote%2Bmind-1-17-1/user_data/vayzenbe/GitHub_Repos/pepdoc/analysis/interact_analysis_figs.ipynb#W6sdnNjb2RlLXJlbW90ZQ%3D%3D?line=17'>18</a>\u001b[0m ax \u001b[39m=\u001b[39m sns\u001b[39m.\u001b[39mheatmap(corr_df,xticklabels\u001b[39m=\u001b[39m\u001b[39m25\u001b[39m,yticklabels\u001b[39m=\u001b[39m\u001b[39m25\u001b[39m, vmin \u001b[39m=\u001b[39m \u001b[39m0\u001b[39m, vmax \u001b[39m=\u001b[39m \u001b[39m1\u001b[39m, square \u001b[39m=\u001b[39m \u001b[39mTrue\u001b[39;00m,\n\u001b[1;32m     <a href='vscode-notebook-cell://ssh-remote%2Bmind-1-17-1/user_data/vayzenbe/GitHub_Repos/pepdoc/analysis/interact_analysis_figs.ipynb#W6sdnNjb2RlLXJlbW90ZQ%3D%3D?line=18'>19</a>\u001b[0m     cmap\u001b[39m=\u001b[39m \u001b[39m\"\u001b[39m\u001b[39mrocket_r\u001b[39m\u001b[39m\"\u001b[39m)\n",
      "File \u001b[0;32m~/anaconda3/envs/ml_new/lib/python3.9/site-packages/pandas/core/frame.py:694\u001b[0m, in \u001b[0;36mDataFrame.__init__\u001b[0;34m(self, data, index, columns, dtype, copy)\u001b[0m\n\u001b[1;32m    684\u001b[0m         mgr \u001b[39m=\u001b[39m dict_to_mgr(\n\u001b[1;32m    685\u001b[0m             \u001b[39m# error: Item \"ndarray\" of \"Union[ndarray, Series, Index]\" has no\u001b[39;00m\n\u001b[1;32m    686\u001b[0m             \u001b[39m# attribute \"name\"\u001b[39;00m\n\u001b[0;32m   (...)\u001b[0m\n\u001b[1;32m    691\u001b[0m             typ\u001b[39m=\u001b[39mmanager,\n\u001b[1;32m    692\u001b[0m         )\n\u001b[1;32m    693\u001b[0m     \u001b[39melse\u001b[39;00m:\n\u001b[0;32m--> 694\u001b[0m         mgr \u001b[39m=\u001b[39m ndarray_to_mgr(\n\u001b[1;32m    695\u001b[0m             data,\n\u001b[1;32m    696\u001b[0m             index,\n\u001b[1;32m    697\u001b[0m             columns,\n\u001b[1;32m    698\u001b[0m             dtype\u001b[39m=\u001b[39;49mdtype,\n\u001b[1;32m    699\u001b[0m             copy\u001b[39m=\u001b[39;49mcopy,\n\u001b[1;32m    700\u001b[0m             typ\u001b[39m=\u001b[39;49mmanager,\n\u001b[1;32m    701\u001b[0m         )\n\u001b[1;32m    703\u001b[0m \u001b[39m# For data is list-like, or Iterable (will consume into list)\u001b[39;00m\n\u001b[1;32m    704\u001b[0m \u001b[39melif\u001b[39;00m is_list_like(data):\n",
      "File \u001b[0;32m~/anaconda3/envs/ml_new/lib/python3.9/site-packages/pandas/core/internals/construction.py:351\u001b[0m, in \u001b[0;36mndarray_to_mgr\u001b[0;34m(values, index, columns, dtype, copy, typ)\u001b[0m\n\u001b[1;32m    346\u001b[0m \u001b[39m# _prep_ndarray ensures that values.ndim == 2 at this point\u001b[39;00m\n\u001b[1;32m    347\u001b[0m index, columns \u001b[39m=\u001b[39m _get_axes(\n\u001b[1;32m    348\u001b[0m     values\u001b[39m.\u001b[39mshape[\u001b[39m0\u001b[39m], values\u001b[39m.\u001b[39mshape[\u001b[39m1\u001b[39m], index\u001b[39m=\u001b[39mindex, columns\u001b[39m=\u001b[39mcolumns\n\u001b[1;32m    349\u001b[0m )\n\u001b[0;32m--> 351\u001b[0m _check_values_indices_shape_match(values, index, columns)\n\u001b[1;32m    353\u001b[0m \u001b[39mif\u001b[39;00m typ \u001b[39m==\u001b[39m \u001b[39m\"\u001b[39m\u001b[39marray\u001b[39m\u001b[39m\"\u001b[39m:\n\u001b[1;32m    355\u001b[0m     \u001b[39mif\u001b[39;00m \u001b[39missubclass\u001b[39m(values\u001b[39m.\u001b[39mdtype\u001b[39m.\u001b[39mtype, \u001b[39mstr\u001b[39m):\n",
      "File \u001b[0;32m~/anaconda3/envs/ml_new/lib/python3.9/site-packages/pandas/core/internals/construction.py:422\u001b[0m, in \u001b[0;36m_check_values_indices_shape_match\u001b[0;34m(values, index, columns)\u001b[0m\n\u001b[1;32m    420\u001b[0m passed \u001b[39m=\u001b[39m values\u001b[39m.\u001b[39mshape\n\u001b[1;32m    421\u001b[0m implied \u001b[39m=\u001b[39m (\u001b[39mlen\u001b[39m(index), \u001b[39mlen\u001b[39m(columns))\n\u001b[0;32m--> 422\u001b[0m \u001b[39mraise\u001b[39;00m \u001b[39mValueError\u001b[39;00m(\u001b[39mf\u001b[39m\u001b[39m\"\u001b[39m\u001b[39mShape of passed values is \u001b[39m\u001b[39m{\u001b[39;00mpassed\u001b[39m}\u001b[39;00m\u001b[39m, indices imply \u001b[39m\u001b[39m{\u001b[39;00mimplied\u001b[39m}\u001b[39;00m\u001b[39m\"\u001b[39m)\n",
      "\u001b[0;31mValueError\u001b[0m: Shape of passed values is (87, 87), indices imply (138, 138)"
     ]
    },
    {
     "data": {
      "text/plain": [
       "<Figure size 480x480 with 0 Axes>"
      ]
     },
     "metadata": {},
     "output_type": "display_data"
    }
   ],
   "source": [
    "\"\"\"\n",
    "Plot time generalization using mean RDMs\n",
    "\"\"\"\n",
    "\n",
    "rois = ['dorsal','ventral', 'frontal','occipital']\n",
    "#rois = ['dorsal']\n",
    "\n",
    "#timepoints = np.asanyarray(timepoints)\n",
    "time_cols = np.asanyarray(timepoints)\n",
    "time_cols[1:] = time_cols[1:]\n",
    "for roi1 in rois:\n",
    "    for roi2 in rois:\n",
    "        plt.figure(figsize=(6, 6), dpi=80)\n",
    "        corr_ts = np.load(f'{results_dir}/rsa/{roi1}_{roi2}_corr_ts.npy')\n",
    "        \n",
    "        corr_df = pd.DataFrame(corr_ts, columns = time_cols, index = time_cols)\n",
    "        corr_df = corr_df.iloc[:stim_offset,:stim_offset]\n",
    "        ax = sns.heatmap(corr_df,xticklabels=25,yticklabels=25, vmin = 0, vmax = 1, square = True,\n",
    "            cmap= \"rocket_r\")\n",
    "        #ax.set_title(f'{roi1} {roi2}')\n",
    "        ax.invert_yaxis()\n",
    "        plt.axvline(13,  linestyle='--', color = 'black')\n",
    "        plt.axhline(13,  linestyle='--', color = 'black')\n",
    "        plt.ylabel(roi1.capitalize(), fontsize=14)\n",
    "        plt.xlabel(roi2.capitalize(), fontsize=14)\n",
    "        #cbar = ax.collections[0].colorbar\n",
    "        #cbar.ax.tick_params(labelsize=12)\n",
    "        #cbar.ax.clabel\n",
    "\n",
    "        #ax.set(xticklabels=[])\n",
    "\n",
    "        #ax.tick_params(bottom=False)  # remove the ticks\n",
    "        ax.spines['top'].set_visible(False)\n",
    "        ax.spines['right'].set_visible(False)\n",
    "        plt.show()\n",
    "        plt.savefig(f'{fig_dir}/{roi1}_{roi2}_time_generalization.png', dpi=300)\n",
    "    "
   ]
  },
  {
   "cell_type": "code",
   "execution_count": 20,
   "metadata": {},
   "outputs": [],
   "source": [
    "\"\"\"\n",
    "Time generalization diff on mean RDMs\n",
    "\"\"\"\n",
    "\n",
    "corr_ts = np.load(f'{results_dir}/rsa/dorsal_ventral_corr_ts.npy')\n",
    "corr_ts = corr_ts[stim_onset:stim_offset,stim_onset:stim_offset]\n",
    "\n",
    "corr_df = pd.DataFrame()\n",
    "corr_df['corrs'] = corr_ts.flatten()\n",
    "\n",
    "x_coord = []\n",
    "y_coord = []\n",
    "offset = []\n",
    "label = []\n",
    "\n",
    "inds = np.triu_indices(n=corr_ts.shape[0],k=1)\n",
    "right_side = corr_ts[inds] #extract lower triangle\n",
    "left_side = corr_ts[(inds[1],inds[0])] #extract upper triangle\n",
    "\n",
    "for corr in corr_df['corrs']:\n",
    "    if len(np.where(right_side == corr)[0]) == 1:\n",
    "        label.append('Dorsal')\n",
    "    if len(np.where(left_side == corr)[0]) == 1:\n",
    "        label.append('Ventral')\n",
    "    elif len(np.where(right_side == corr)[0]) == 0 and len(np.where(left_side == corr)[0]) == 0:\n",
    "        label.append('Same')\n",
    "    \n",
    "\n",
    "    curr_x = np.where(corr_ts == corr)[0]\n",
    "    curr_y = np.where(corr_ts == corr)[1]\n",
    "    x_coord.append(curr_x)\n",
    "    y_coord.append(curr_y)\n",
    "\n",
    "    offset.append((curr_x- curr_y)*4)\n",
    "\n",
    "corr_df['x_coord'] = x_coord\n",
    "corr_df['y_coord'] = y_coord\n",
    "corr_df['offset'] = offset\n",
    "corr_df['label'] = label\n",
    "\n",
    "corr_df.to_csv(f'{results_dir}/rsa/dorsal_ventral_corrs.csv')"
   ]
  },
  {
   "cell_type": "code",
   "execution_count": 21,
   "metadata": {},
   "outputs": [
    {
     "data": {
      "image/png": "[encoded data removed]",
      "text/plain": [
       "<Figure size 2000x600 with 1 Axes>"
      ]
     },
     "metadata": {},
     "output_type": "display_data"
    }
   ],
   "source": [
    "'''\n",
    "Plot histogram of top correlations\n",
    "'''\n",
    "corr_df = pd.read_csv(f'{results_dir}/rsa/dorsal_ventral_corrs.csv')\n",
    "\n",
    "corr_df = corr_df.sort_values(by='corrs', ascending=False)\n",
    "corr_df = corr_df.reset_index()\n",
    "hues = ['#FFC107','#CC6677','#00949e']\n",
    "\n",
    "vals = 100\n",
    "fig_df = corr_df.head(vals)\n",
    "\n",
    "plt.figure(figsize=(10, 3), dpi=200)\n",
    "sns.barplot(y=fig_df['corrs'], x = fig_df.index,order = fig_df.index, hue = fig_df['label'],dodge = False,\n",
    "            palette = ['#FFC107','#00949e','#CC6677'])\n",
    "ax = plt.gca()\n",
    "ax.set(xticklabels=[])\n",
    "ax.tick_params(bottom=False,left= False)  # remove the ticks\n",
    "ax.spines['top'].set_visible(False)\n",
    "ax.spines['right'].set_visible(False)\n",
    "ax.spines['left'].set_visible(False)\n",
    "ax.spines['bottom'].set_visible(False)\n",
    "\n",
    "\n",
    "#plt.ylabel('Correlation',fontsize=16)\n",
    "#plt.axvline(onsets[roi[0]],  linestyle='--', color = colors[roi[0]])\n",
    "#plt.yticks(np.arange(min(x), max(x)+1, 1.0))\n",
    "#plt.xticks(fontsize= 14)\n",
    "#plt.yticks(fontsize= 14)\n",
    "plt.ylim(0,1.01)\n",
    "\n",
    "ax = plt.gca()\n",
    "#ax.xaxis.set_tick_params(width=1.5)\n",
    "#ax.yaxis.set_tick_params(width=1.5)\n",
    "\n",
    "start, end = ax.get_ylim()\n",
    "ax.yaxis.set_ticks(np.arange(start, end, 1))\n",
    "\n",
    "ax.get_legend().remove()\n",
    "\n",
    "\n",
    "plt.savefig(f'{fig_dir}/correlation_hist_{vals}.png', dpi=300)"
   ]
  },
  {
   "cell_type": "code",
   "execution_count": 22,
   "metadata": {},
   "outputs": [
    {
     "data": {
      "text/html": [
       "<div>\n",
       "<style scoped>\n",
       "    .dataframe tbody tr th:only-of-type {\n",
       "        vertical-align: middle;\n",
       "    }\n",
       "\n",
       "    .dataframe tbody tr th {\n",
       "        vertical-align: top;\n",
       "    }\n",
       "\n",
       "    .dataframe thead th {\n",
       "        text-align: right;\n",
       "    }\n",
       "</style>\n",
       "<table border=\"1\" class=\"dataframe\">\n",
       "  <thead>\n",
       "    <tr style=\"text-align: right;\">\n",
       "      <th></th>\n",
       "      <th>index</th>\n",
       "      <th>Unnamed: 0</th>\n",
       "      <th>corrs</th>\n",
       "      <th>x_coord</th>\n",
       "      <th>y_coord</th>\n",
       "      <th>offset</th>\n",
       "    </tr>\n",
       "    <tr>\n",
       "      <th>label</th>\n",
       "      <th></th>\n",
       "      <th></th>\n",
       "      <th></th>\n",
       "      <th></th>\n",
       "      <th></th>\n",
       "      <th></th>\n",
       "    </tr>\n",
       "  </thead>\n",
       "  <tbody>\n",
       "    <tr>\n",
       "      <th>Dorsal</th>\n",
       "      <td>47</td>\n",
       "      <td>47</td>\n",
       "      <td>47</td>\n",
       "      <td>47</td>\n",
       "      <td>47</td>\n",
       "      <td>47</td>\n",
       "    </tr>\n",
       "    <tr>\n",
       "      <th>Same</th>\n",
       "      <td>24</td>\n",
       "      <td>24</td>\n",
       "      <td>24</td>\n",
       "      <td>24</td>\n",
       "      <td>24</td>\n",
       "      <td>24</td>\n",
       "    </tr>\n",
       "    <tr>\n",
       "      <th>Ventral</th>\n",
       "      <td>29</td>\n",
       "      <td>29</td>\n",
       "      <td>29</td>\n",
       "      <td>29</td>\n",
       "      <td>29</td>\n",
       "      <td>29</td>\n",
       "    </tr>\n",
       "  </tbody>\n",
       "</table>\n",
       "</div>"
      ],
      "text/plain": [
       "         index  Unnamed: 0  corrs  x_coord  y_coord  offset\n",
       "label                                                      \n",
       "Dorsal      47          47     47       47       47      47\n",
       "Same        24          24     24       24       24      24\n",
       "Ventral     29          29     29       29       29      29"
      ]
     },
     "execution_count": 22,
     "metadata": {},
     "output_type": "execute_result"
    }
   ],
   "source": [
    "fig_df.groupby('label').count()"
   ]
  },
  {
   "cell_type": "code",
   "execution_count": 8,
   "metadata": {},
   "outputs": [
    {
     "name": "stdout",
     "output_type": "stream",
     "text": [
      "24 out of 50 0.48 1.0\n",
      "47 out of 100 0.47 0.7643078059842483\n",
      "70 out of 150 0.4666666666666667 0.6242850942925785\n",
      "95 out of 200 0.475 0.7237180864723418\n",
      "119 out of 250 0.476 0.704361045432474\n",
      "145 out of 300 0.48333333333333334 0.8624998917763698\n",
      "165 out of 350 0.4714285714285714 0.5212207601817229\n",
      "196 out of 400 0.49 1.0\n",
      "219 out of 450 0.4866666666666667 0.9248848389327154\n",
      "247 out of 500 0.494 0.8581570271143317\n",
      "281 out of 550 0.5109090909090909 0.3270630483358239\n",
      "306 out of 600 0.51 0.3274849392389615\n",
      "343 out of 650 0.5276923076923077 0.05960452997882648\n",
      "378 out of 700 0.54 0.009046684505977332\n",
      "409 out of 750 0.5453333333333333 0.002722245598470577\n",
      "437 out of 800 0.54625 0.001631674954734338\n",
      "458 out of 850 0.5388235294117647 0.0048769377439409085\n",
      "484 out of 900 0.5377777777777778 0.004571820478517383\n",
      "516 out of 950 0.5431578947368421 0.0011630175022550233\n",
      "543 out of 1000 0.543 0.0008878744553639138\n",
      "564 out of 1050 0.5371428571428571 0.0024706586739111826\n",
      "592 out of 1100 0.5381818181818182 0.0015313669481432466\n",
      "620 out of 1150 0.5391304347826087 0.0009472647573775576\n",
      "645 out of 1200 0.5375 0.001095137984003481\n",
      "674 out of 1250 0.5392 0.0005525688671175421\n",
      "700 out of 1300 0.5384615384615384 0.0005204106859160228\n",
      "731 out of 1350 0.5414814814814815 0.00017012992170501693\n",
      "756 out of 1400 0.54 0.00020040043925371\n",
      "781 out of 1450 0.5386206896551724 0.00023326512550558742\n",
      "806 out of 1500 0.5373333333333333 0.0002686255633246341\n",
      "833 out of 1550 0.5374193548387097 0.0002058778218002708\n",
      "859 out of 1600 0.536875 0.00019281596857324243\n",
      "888 out of 1650 0.5381818181818182 9.891039554541854e-05\n",
      "918 out of 1700 0.54 4.080899420229363e-05\n",
      "944 out of 1750 0.5394285714285715 3.862959367511194e-05\n",
      "970 out of 1800 0.5388888888888889 3.648576593300795e-05\n",
      "997 out of 1850 0.538918918918919 2.80349024544589e-05\n",
      "1018 out of 1900 0.5357894736842105 7.11948805577956e-05\n",
      "1038 out of 1950 0.5323076923076923 0.00020188628399699728\n",
      "1070 out of 2000 0.535 6.178971488267568e-05\n"
     ]
    }
   ],
   "source": [
    "vals = np.arange(50,2050,50)\n",
    "\n",
    "for val in vals:\n",
    "    fig_df = corr_df.head(val)\n",
    "\n",
    "    time_count = np.sum(fig_df['label'] == 'Dorsal')\n",
    "\n",
    "    print(f'{time_count} out of {val}', time_count/ val, stats.binom_test(time_count,n=val, p= 0.49, alternative='two-sided'))\n",
    "    "
   ]
  },
  {
   "cell_type": "code",
   "execution_count": 5,
   "metadata": {},
   "outputs": [],
   "source": [
    "\"\"\"\n",
    "Test whether **INDIV** RDMs are right shifted or left shifted\n",
    "\"\"\"\n",
    "rois = ['dorsal','ventral','frontal','occipital']\n",
    "\n",
    "\n",
    "#timepoints = np.asanyarray(timepoints)\n",
    "time_cols = np.asanyarray(timepoints)\n",
    "time_cols[1:] = time_cols[1:] + 2\n",
    "\n",
    "\n",
    "\n",
    "df = pd.DataFrame()\n",
    "df['subs'] = sub_list\n",
    "for roi1 in rois:\n",
    "    for roi2 in rois:\n",
    "        if roi1 == roi2:\n",
    "            continue\n",
    "        else:\n",
    "            sub_diffs =[]\n",
    "            for sub in sub_list:\n",
    "                corr_ts = np.load(f'{data_dir}/{sub}_{roi1}_{roi2}_corr_ts.npy')\n",
    "                corr_ts = corr_ts[stim_onset:stim_offset,stim_onset:stim_offset]\n",
    "\n",
    "                #extract left and right sides of the diagnol\n",
    "                inds = np.triu_indices(n=corr_ts.shape[0],k=1)\n",
    "                right_side = corr_ts[inds] #extract lower triangle\n",
    "                left_side = corr_ts[(inds[1],inds[0])] #extract upper triangle\n",
    "\n",
    "                #calculate the difference between the left and right sides\n",
    "                #if positive, then right shifted\n",
    "                diff = right_side - left_side\n",
    "\n",
    "\n",
    "                \n",
    "                #left side rdm\n",
    "\n",
    "                sub_diffs.append(np.mean(diff))\n",
    "\n",
    "            df[f'{roi1}_{roi2}'] = sub_diffs\n",
    "\n",
    "\n",
    "df.to_csv(f'{results_dir}/rsa/indiv_tga_diffs.csv', index = False)"
   ]
  },
  {
   "cell_type": "markdown",
   "metadata": {},
   "source": [
    "### TGM partial! correlations"
   ]
  },
  {
   "cell_type": "code",
   "execution_count": 8,
   "metadata": {},
   "outputs": [],
   "source": [
    "\"\"\"\n",
    "Test whether **INDIV** partial RDMs are right shifted or left shifted\n",
    "\"\"\"\n",
    "rois = ['dorsal','ventral', 'frontal','occipital']\n",
    "control_rois = ['occipital','frontal','dorsal','ventral']\n",
    "\n",
    "\n",
    "\n",
    "#timepoints = np.asanyarray(timepoints)\n",
    "time_cols = np.asanyarray(timepoints)\n",
    "time_cols[1:] = time_cols[1:] + 2\n",
    "\n",
    "\n",
    "\n",
    "df = pd.DataFrame()\n",
    "df['subs'] = sub_list\n",
    "for control_roi in control_rois:\n",
    "    for roi1 in rois:\n",
    "        for roi2 in rois:\n",
    "            if roi1 == roi2:\n",
    "                continue\n",
    "            else:\n",
    "                sub_diffs =[]\n",
    "                for sub in sub_list:\n",
    "                    if os.path.isfile(f'{data_dir}/{sub}_{roi1}_{roi2}_corr_ts_{control_roi}.npy'):\n",
    "                        corr_ts = np.load(f'{data_dir}/{sub}_{roi1}_{roi2}_corr_ts_{control_roi}.npy')\n",
    "                        corr_ts = corr_ts[stim_onset:stim_offset,stim_onset:stim_offset]\n",
    "\n",
    "                        #extract left and right sides of the diagnol\n",
    "                        inds = np.triu_indices(n=corr_ts.shape[0],k=1)\n",
    "                        right_side = corr_ts[inds] #extract lower triangle\n",
    "                        left_side = corr_ts[(inds[1],inds[0])] #extract upper triangle\n",
    "\n",
    "                        #calculate the difference between the left and right sides\n",
    "                        #if positive, then right shifted\n",
    "                        diff = right_side - left_side\n",
    "\n",
    "\n",
    "                        \n",
    "                        #left side rdm\n",
    "\n",
    "                        sub_diffs.append(np.mean(diff))\n",
    "\n",
    "                df[f'{roi1}_{roi2}_{control_roi}'] = sub_diffs\n",
    "\n",
    "\n",
    "df.to_csv(f'{results_dir}/rsa/indiv_tga_partial_diff.csv', index = False)"
   ]
  },
  {
   "cell_type": "code",
   "execution_count": 11,
   "metadata": {},
   "outputs": [
    {
     "data": {
      "text/plain": [
       "[]"
      ]
     },
     "execution_count": 11,
     "metadata": {},
     "output_type": "execute_result"
    }
   ],
   "source": [
    "sub_diffs"
   ]
  }
 ],
 "metadata": {
  "kernelspec": {
   "display_name": "Python 3.9.7 ('ml_new')",
   "language": "python",
   "name": "python3"
  },
  "language_info": {
   "codemirror_mode": {
    "name": "ipython",
    "version": 3
   },
   "file_extension": ".py",
   "mimetype": "text/x-python",
   "name": "python",
   "nbconvert_exporter": "python",
   "pygments_lexer": "ipython3",
   "version": "3.9.13"
  },
  "orig_nbformat": 4,
  "vscode": {
   "interpreter": {
    "hash": "5019f625d8cef7bf561ee867ce6ef83187ba244587e1135dd2819ee04470ac03"
   }
  }
 },
 "nbformat": 4,
 "nbformat_minor": 2
}
